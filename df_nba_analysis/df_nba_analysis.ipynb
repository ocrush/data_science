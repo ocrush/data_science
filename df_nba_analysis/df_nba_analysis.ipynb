{
 "cells": [
  {
   "cell_type": "markdown",
   "metadata": {},
   "source": [
    "### Analyze daily nba fantasy data from fanduel\n",
    "\n",
    "1. Compare fantasy points by positions (pg,sg,sf,pf,c's) to see if one group is better than other?\n",
    "2. Which position performs well for high,mid,low-end salary?\n",
    "3. How does playing away change scoring or other stats for a player?\n",
    "4. What is the best possible lineup, total points, pts/$1000's, and cost of lineup for each day?\n",
    "5. What does playing optimally everyday show?  Any strategies, trends, etc that we can learn?\n"
   ]
  },
  {
   "cell_type": "code",
   "execution_count": 1,
   "metadata": {},
   "outputs": [
    {
     "data": {
      "text/html": [
       "<div>\n",
       "<style scoped>\n",
       "    .dataframe tbody tr th:only-of-type {\n",
       "        vertical-align: middle;\n",
       "    }\n",
       "\n",
       "    .dataframe tbody tr th {\n",
       "        vertical-align: top;\n",
       "    }\n",
       "\n",
       "    .dataframe thead th {\n",
       "        text-align: right;\n",
       "    }\n",
       "</style>\n",
       "<table border=\"1\" class=\"dataframe\">\n",
       "  <thead>\n",
       "    <tr style=\"text-align: right;\">\n",
       "      <th></th>\n",
       "      <th>Unnamed: 0</th>\n",
       "      <th>position</th>\n",
       "      <th>name</th>\n",
       "      <th>fd_points</th>\n",
       "      <th>salary</th>\n",
       "      <th>team</th>\n",
       "      <th>opp</th>\n",
       "      <th>score</th>\n",
       "      <th>min</th>\n",
       "      <th>game_date</th>\n",
       "      <th>points</th>\n",
       "      <th>rebounds</th>\n",
       "      <th>asst</th>\n",
       "      <th>steal</th>\n",
       "      <th>blks</th>\n",
       "      <th>to</th>\n",
       "      <th>3s</th>\n",
       "      <th>fg</th>\n",
       "      <th>ft</th>\n",
       "    </tr>\n",
       "  </thead>\n",
       "  <tbody>\n",
       "    <tr>\n",
       "      <th>0</th>\n",
       "      <td>0</td>\n",
       "      <td>SG</td>\n",
       "      <td>McCollum, C.J.^</td>\n",
       "      <td>58.5</td>\n",
       "      <td>$7,500</td>\n",
       "      <td>por</td>\n",
       "      <td>@ min</td>\n",
       "      <td>95-89</td>\n",
       "      <td>39:14</td>\n",
       "      <td>1-1-2017</td>\n",
       "      <td>43</td>\n",
       "      <td>5</td>\n",
       "      <td>3</td>\n",
       "      <td>3</td>\n",
       "      <td>1</td>\n",
       "      <td>3</td>\n",
       "      <td>3</td>\n",
       "      <td>16-25</td>\n",
       "      <td>8-9</td>\n",
       "    </tr>\n",
       "    <tr>\n",
       "      <th>1</th>\n",
       "      <td>1</td>\n",
       "      <td>PG</td>\n",
       "      <td>Lowry, Kyle^</td>\n",
       "      <td>58.3</td>\n",
       "      <td>$9,100</td>\n",
       "      <td>tor</td>\n",
       "      <td>@ lal</td>\n",
       "      <td>123-114</td>\n",
       "      <td>39:02</td>\n",
       "      <td>1-1-2017</td>\n",
       "      <td>41</td>\n",
       "      <td>9</td>\n",
       "      <td>7</td>\n",
       "      <td>0</td>\n",
       "      <td>0</td>\n",
       "      <td>4</td>\n",
       "      <td>6</td>\n",
       "      <td>12-16</td>\n",
       "      <td>11-11</td>\n",
       "    </tr>\n",
       "    <tr>\n",
       "      <th>2</th>\n",
       "      <td>2</td>\n",
       "      <td>PG</td>\n",
       "      <td>Russell, D'Angelo^</td>\n",
       "      <td>42.3</td>\n",
       "      <td>$5,900</td>\n",
       "      <td>lal</td>\n",
       "      <td>v tor</td>\n",
       "      <td>114-123</td>\n",
       "      <td>30:58</td>\n",
       "      <td>1-1-2017</td>\n",
       "      <td>28</td>\n",
       "      <td>4</td>\n",
       "      <td>5</td>\n",
       "      <td>1</td>\n",
       "      <td>0</td>\n",
       "      <td>0</td>\n",
       "      <td>6</td>\n",
       "      <td>9-18</td>\n",
       "      <td>4-6</td>\n",
       "    </tr>\n",
       "    <tr>\n",
       "      <th>3</th>\n",
       "      <td>3</td>\n",
       "      <td>SG</td>\n",
       "      <td>DeRozan, DeMar^</td>\n",
       "      <td>39.7</td>\n",
       "      <td>$8,800</td>\n",
       "      <td>tor</td>\n",
       "      <td>@ lal</td>\n",
       "      <td>123-114</td>\n",
       "      <td>35:18</td>\n",
       "      <td>1-1-2017</td>\n",
       "      <td>31</td>\n",
       "      <td>1</td>\n",
       "      <td>3</td>\n",
       "      <td>1</td>\n",
       "      <td>1</td>\n",
       "      <td>1</td>\n",
       "      <td>0</td>\n",
       "      <td>10-25</td>\n",
       "      <td>11-13</td>\n",
       "    </tr>\n",
       "    <tr>\n",
       "      <th>4</th>\n",
       "      <td>4</td>\n",
       "      <td>SG</td>\n",
       "      <td>Caldwell-Pope, Kentavious^</td>\n",
       "      <td>39.7</td>\n",
       "      <td>$5,400</td>\n",
       "      <td>det</td>\n",
       "      <td>@ mia</td>\n",
       "      <td>107-98</td>\n",
       "      <td>39:36</td>\n",
       "      <td>1-1-2017</td>\n",
       "      <td>23</td>\n",
       "      <td>6</td>\n",
       "      <td>5</td>\n",
       "      <td>2</td>\n",
       "      <td>0</td>\n",
       "      <td>2</td>\n",
       "      <td>4</td>\n",
       "      <td>9-15</td>\n",
       "      <td>1-2</td>\n",
       "    </tr>\n",
       "  </tbody>\n",
       "</table>\n",
       "</div>"
      ],
      "text/plain": [
       "   Unnamed: 0 position                        name  fd_points  salary team  \\\n",
       "0           0       SG             McCollum, C.J.^       58.5  $7,500  por   \n",
       "1           1       PG                Lowry, Kyle^       58.3  $9,100  tor   \n",
       "2           2       PG          Russell, D'Angelo^       42.3  $5,900  lal   \n",
       "3           3       SG             DeRozan, DeMar^       39.7  $8,800  tor   \n",
       "4           4       SG  Caldwell-Pope, Kentavious^       39.7  $5,400  det   \n",
       "\n",
       "     opp     score    min game_date  points  rebounds  asst  steal  blks  to  \\\n",
       "0  @ min     95-89  39:14  1-1-2017      43         5     3      3     1   3   \n",
       "1  @ lal   123-114  39:02  1-1-2017      41         9     7      0     0   4   \n",
       "2  v tor   114-123  30:58  1-1-2017      28         4     5      1     0   0   \n",
       "3  @ lal   123-114  35:18  1-1-2017      31         1     3      1     1   1   \n",
       "4  @ mia    107-98  39:36  1-1-2017      23         6     5      2     0   2   \n",
       "\n",
       "   3s     fg     ft  \n",
       "0   3  16-25    8-9  \n",
       "1   6  12-16  11-11  \n",
       "2   6   9-18    4-6  \n",
       "3   0  10-25  11-13  \n",
       "4   4   9-15    1-2  "
      ]
     },
     "execution_count": 1,
     "metadata": {},
     "output_type": "execute_result"
    }
   ],
   "source": [
    "import pandas as pd\n",
    "import matplotlib.pyplot as plt\n",
    "import seaborn as sns\n",
    "from salary_optimizer import SalaryOptimizer\n",
    "%matplotlib inline\n",
    "# load daily fantasy data\n",
    "df = pd.read_csv('./fanduel_salaries_w_stats.csv')\n",
    "df.head()"
   ]
  },
  {
   "cell_type": "code",
   "execution_count": 21,
   "metadata": {},
   "outputs": [],
   "source": [
    "# import warnings filter\n",
    "from warnings import simplefilter\n",
    "# ignore all future warnings\n",
    "simplefilter(action='ignore', category=FutureWarning)"
   ]
  },
  {
   "cell_type": "markdown",
   "metadata": {},
   "source": [
    "#### Utility routines to cleanup data"
   ]
  },
  {
   "cell_type": "code",
   "execution_count": 3,
   "metadata": {},
   "outputs": [],
   "source": [
    "def clean_currency(x):\n",
    "    \"\"\" If the value is a string, then remove currency symbol and delimiters\n",
    "    otherwise, the value is numeric and can be converted\n",
    "    \"\"\"\n",
    "    if isinstance(x, str):\n",
    "        return(x.replace('$', '').replace(',', ''))\n",
    "    return(x)"
   ]
  },
  {
   "cell_type": "code",
   "execution_count": 4,
   "metadata": {},
   "outputs": [],
   "source": [
    "def home_away(opp_str):\n",
    "    '''\n",
    "    INPUT\n",
    "        op_str - a string of one of the values from the opponent column\n",
    "    \n",
    "    OUTPUT\n",
    "        return 1 if the string contains \"@\" - indicates away\n",
    "        return 0 otherwise - home\n",
    "    \n",
    "    '''\n",
    "    if \"@\" in opp_str:\n",
    "        return 1\n",
    "    return 0"
   ]
  },
  {
   "cell_type": "code",
   "execution_count": 5,
   "metadata": {},
   "outputs": [],
   "source": [
    "def get_ready_for_analysis(df):\n",
    "    #drop first column.not needed\n",
    "    df = df.drop(df.columns[0], axis=1)\n",
    "    # drop players without any scores\n",
    "    df = df[df.fd_points != 0]\n",
    "    # convert salary to float\n",
    "    df['salary'] = df['salary'].apply(clean_currency).astype('float')\n",
    "    # convert minutes to int.  just drop seconds.  It is not big deal for this analysis\n",
    "    df['min'] = df['min'].str.split(\":\").str.get(0)\n",
    "    # replace DNP\n",
    "    df['min'] = df['min'].str.replace('DNP', '0').astype(int)\n",
    "    # create a new column indicating home or away games. 0 - home 1-away\n",
    "    df[\"home_away\"] = df[\"opp\"].apply(home_away)\n",
    "    \n",
    "    return df"
   ]
  },
  {
   "cell_type": "code",
   "execution_count": 6,
   "metadata": {},
   "outputs": [
    {
     "data": {
      "text/html": [
       "<div>\n",
       "<style scoped>\n",
       "    .dataframe tbody tr th:only-of-type {\n",
       "        vertical-align: middle;\n",
       "    }\n",
       "\n",
       "    .dataframe tbody tr th {\n",
       "        vertical-align: top;\n",
       "    }\n",
       "\n",
       "    .dataframe thead th {\n",
       "        text-align: right;\n",
       "    }\n",
       "</style>\n",
       "<table border=\"1\" class=\"dataframe\">\n",
       "  <thead>\n",
       "    <tr style=\"text-align: right;\">\n",
       "      <th></th>\n",
       "      <th>position</th>\n",
       "      <th>name</th>\n",
       "      <th>fd_points</th>\n",
       "      <th>salary</th>\n",
       "      <th>team</th>\n",
       "      <th>opp</th>\n",
       "      <th>score</th>\n",
       "      <th>min</th>\n",
       "      <th>game_date</th>\n",
       "      <th>points</th>\n",
       "      <th>rebounds</th>\n",
       "      <th>asst</th>\n",
       "      <th>steal</th>\n",
       "      <th>blks</th>\n",
       "      <th>to</th>\n",
       "      <th>3s</th>\n",
       "      <th>fg</th>\n",
       "      <th>ft</th>\n",
       "      <th>home_away</th>\n",
       "    </tr>\n",
       "  </thead>\n",
       "  <tbody>\n",
       "    <tr>\n",
       "      <th>0</th>\n",
       "      <td>SG</td>\n",
       "      <td>McCollum, C.J.^</td>\n",
       "      <td>58.5</td>\n",
       "      <td>7500.0</td>\n",
       "      <td>por</td>\n",
       "      <td>@ min</td>\n",
       "      <td>95-89</td>\n",
       "      <td>39</td>\n",
       "      <td>1-1-2017</td>\n",
       "      <td>43</td>\n",
       "      <td>5</td>\n",
       "      <td>3</td>\n",
       "      <td>3</td>\n",
       "      <td>1</td>\n",
       "      <td>3</td>\n",
       "      <td>3</td>\n",
       "      <td>16-25</td>\n",
       "      <td>8-9</td>\n",
       "      <td>1</td>\n",
       "    </tr>\n",
       "    <tr>\n",
       "      <th>1</th>\n",
       "      <td>PG</td>\n",
       "      <td>Lowry, Kyle^</td>\n",
       "      <td>58.3</td>\n",
       "      <td>9100.0</td>\n",
       "      <td>tor</td>\n",
       "      <td>@ lal</td>\n",
       "      <td>123-114</td>\n",
       "      <td>39</td>\n",
       "      <td>1-1-2017</td>\n",
       "      <td>41</td>\n",
       "      <td>9</td>\n",
       "      <td>7</td>\n",
       "      <td>0</td>\n",
       "      <td>0</td>\n",
       "      <td>4</td>\n",
       "      <td>6</td>\n",
       "      <td>12-16</td>\n",
       "      <td>11-11</td>\n",
       "      <td>1</td>\n",
       "    </tr>\n",
       "    <tr>\n",
       "      <th>2</th>\n",
       "      <td>PG</td>\n",
       "      <td>Russell, D'Angelo^</td>\n",
       "      <td>42.3</td>\n",
       "      <td>5900.0</td>\n",
       "      <td>lal</td>\n",
       "      <td>v tor</td>\n",
       "      <td>114-123</td>\n",
       "      <td>30</td>\n",
       "      <td>1-1-2017</td>\n",
       "      <td>28</td>\n",
       "      <td>4</td>\n",
       "      <td>5</td>\n",
       "      <td>1</td>\n",
       "      <td>0</td>\n",
       "      <td>0</td>\n",
       "      <td>6</td>\n",
       "      <td>9-18</td>\n",
       "      <td>4-6</td>\n",
       "      <td>0</td>\n",
       "    </tr>\n",
       "    <tr>\n",
       "      <th>3</th>\n",
       "      <td>SG</td>\n",
       "      <td>DeRozan, DeMar^</td>\n",
       "      <td>39.7</td>\n",
       "      <td>8800.0</td>\n",
       "      <td>tor</td>\n",
       "      <td>@ lal</td>\n",
       "      <td>123-114</td>\n",
       "      <td>35</td>\n",
       "      <td>1-1-2017</td>\n",
       "      <td>31</td>\n",
       "      <td>1</td>\n",
       "      <td>3</td>\n",
       "      <td>1</td>\n",
       "      <td>1</td>\n",
       "      <td>1</td>\n",
       "      <td>0</td>\n",
       "      <td>10-25</td>\n",
       "      <td>11-13</td>\n",
       "      <td>1</td>\n",
       "    </tr>\n",
       "    <tr>\n",
       "      <th>4</th>\n",
       "      <td>SG</td>\n",
       "      <td>Caldwell-Pope, Kentavious^</td>\n",
       "      <td>39.7</td>\n",
       "      <td>5400.0</td>\n",
       "      <td>det</td>\n",
       "      <td>@ mia</td>\n",
       "      <td>107-98</td>\n",
       "      <td>39</td>\n",
       "      <td>1-1-2017</td>\n",
       "      <td>23</td>\n",
       "      <td>6</td>\n",
       "      <td>5</td>\n",
       "      <td>2</td>\n",
       "      <td>0</td>\n",
       "      <td>2</td>\n",
       "      <td>4</td>\n",
       "      <td>9-15</td>\n",
       "      <td>1-2</td>\n",
       "      <td>1</td>\n",
       "    </tr>\n",
       "  </tbody>\n",
       "</table>\n",
       "</div>"
      ],
      "text/plain": [
       "  position                        name  fd_points  salary team    opp  \\\n",
       "0       SG             McCollum, C.J.^       58.5  7500.0  por  @ min   \n",
       "1       PG                Lowry, Kyle^       58.3  9100.0  tor  @ lal   \n",
       "2       PG          Russell, D'Angelo^       42.3  5900.0  lal  v tor   \n",
       "3       SG             DeRozan, DeMar^       39.7  8800.0  tor  @ lal   \n",
       "4       SG  Caldwell-Pope, Kentavious^       39.7  5400.0  det  @ mia   \n",
       "\n",
       "      score  min game_date  points  rebounds  asst  steal  blks  to  3s  \\\n",
       "0     95-89   39  1-1-2017      43         5     3      3     1   3   3   \n",
       "1   123-114   39  1-1-2017      41         9     7      0     0   4   6   \n",
       "2   114-123   30  1-1-2017      28         4     5      1     0   0   6   \n",
       "3   123-114   35  1-1-2017      31         1     3      1     1   1   0   \n",
       "4    107-98   39  1-1-2017      23         6     5      2     0   2   4   \n",
       "\n",
       "      fg     ft  home_away  \n",
       "0  16-25    8-9          1  \n",
       "1  12-16  11-11          1  \n",
       "2   9-18    4-6          0  \n",
       "3  10-25  11-13          1  \n",
       "4   9-15    1-2          1  "
      ]
     },
     "execution_count": 6,
     "metadata": {},
     "output_type": "execute_result"
    }
   ],
   "source": [
    "df = get_ready_for_analysis(df)\n",
    "df.head()"
   ]
  },
  {
   "cell_type": "markdown",
   "metadata": {},
   "source": [
    "#### Compare fantasy points by positions (pg,sg,sf,pf,c's) to see if one group is better than other?\n",
    "* Plot position vs fantasy points to see the data distribution"
   ]
  },
  {
   "cell_type": "code",
   "execution_count": 7,
   "metadata": {},
   "outputs": [
    {
     "data": {
      "text/plain": [
       "(17082, 19)"
      ]
     },
     "execution_count": 7,
     "metadata": {},
     "output_type": "execute_result"
    }
   ],
   "source": [
    "# how may rows, columns\n",
    "df.shape"
   ]
  },
  {
   "cell_type": "code",
   "execution_count": 50,
   "metadata": {},
   "outputs": [
    {
     "data": {
      "image/png": "[encoded data removed]",
      "text/plain": [
       "<Figure size 576x360 with 1 Axes>"
      ]
     },
     "metadata": {},
     "output_type": "display_data"
    }
   ],
   "source": [
    "# use violin plots to display distribution\n",
    "fig,axes = plt.subplots(figsize=(8,5))\n",
    "sns.violinplot('position','fd_points',data=df,ax=axes,title='ldjfldfj')\n",
    "axes.yaxis.grid(True)\n",
    "axes.set_ylabel('Fantasy Points')\n",
    "axes.set_title('Fantasy points according to position')\n",
    "plt.show()"
   ]
  },
  {
   "cell_type": "markdown",
   "metadata": {},
   "source": [
    "#### observations:\n",
    "1. Scoring among positions looks similar.  \n",
    "2. Each of the positions has more players scoring between 0-20 fantasy points.  Chart also indicates that there are slightly more SG and SF's in the range of 0-20 compare to centers (C).\n",
    "3. Pool of players reduces as the fantasy points increse.  This makes sense as not everyone can score in the high digits.  There are tiers of players.  Only few superstars in the league.  However, there are slightly more PG's and C's that score over 60.\n",
    "4. SG has scored the most fantasy points followed by PG,PF,SF,C"
   ]
  },
  {
   "cell_type": "code",
   "execution_count": 51,
   "metadata": {},
   "outputs": [
    {
     "data": {
      "text/plain": [
       "<matplotlib.axes._subplots.AxesSubplot at 0x1a21d8c6a0>"
      ]
     },
     "execution_count": 51,
     "metadata": {},
     "output_type": "execute_result"
    },
    {
     "data": {
      "image/png": "[encoded data removed]",
      "text/plain": [
       "<Figure size 576x360 with 1 Axes>"
      ]
     },
     "metadata": {},
     "output_type": "display_data"
    }
   ],
   "source": [
    "# another way to look at the data\n",
    "df[['position','fd_points']].groupby('position').boxplot(subplots=False, rot=45,fontsize=12,figsize=(8,5))"
   ]
  },
  {
   "cell_type": "code",
   "execution_count": 10,
   "metadata": {},
   "outputs": [
    {
     "data": {
      "text/plain": [
       "array([[<matplotlib.axes._subplots.AxesSubplot object at 0x1a1f2a2a20>,\n",
       "        <matplotlib.axes._subplots.AxesSubplot object at 0x1a1f289cc0>],\n",
       "       [<matplotlib.axes._subplots.AxesSubplot object at 0x1a1f273160>,\n",
       "        <matplotlib.axes._subplots.AxesSubplot object at 0x1a1f25a588>],\n",
       "       [<matplotlib.axes._subplots.AxesSubplot object at 0x1a1f240860>,\n",
       "        <matplotlib.axes._subplots.AxesSubplot object at 0x1a1f227400>]],\n",
       "      dtype=object)"
      ]
     },
     "execution_count": 10,
     "metadata": {},
     "output_type": "execute_result"
    },
    {
     "data": {
      "image/png": "[encoded data removed]",
      "text/plain": [
       "<Figure size 432x288 with 6 Axes>"
      ]
     },
     "metadata": {},
     "output_type": "display_data"
    }
   ],
   "source": [
    "# yet another way to plot distribution\n",
    "df['fd_points'].hist(by=df['position'])"
   ]
  },
  {
   "cell_type": "markdown",
   "metadata": {},
   "source": [
    "#### Which position performs well for high,mid,low-end salary?"
   ]
  },
  {
   "cell_type": "code",
   "execution_count": 11,
   "metadata": {},
   "outputs": [],
   "source": [
    "# the violin plot indicates that there are tiers of players.  Lets divide the positions by range of salaries\n",
    "sal_bins = pd.cut(df['salary'],[0,3500,5500,7500,9500,14000])"
   ]
  },
  {
   "cell_type": "code",
   "execution_count": 12,
   "metadata": {},
   "outputs": [
    {
     "data": {
      "text/plain": [
       "count    17082.000000\n",
       "mean      5004.109589\n",
       "std       1850.763912\n",
       "min       3500.000000\n",
       "25%       3500.000000\n",
       "50%       4200.000000\n",
       "75%       5900.000000\n",
       "max      13100.000000\n",
       "Name: salary, dtype: float64"
      ]
     },
     "execution_count": 12,
     "metadata": {},
     "output_type": "execute_result"
    }
   ],
   "source": [
    "df['salary'].describe()"
   ]
  },
  {
   "cell_type": "code",
   "execution_count": 13,
   "metadata": {},
   "outputs": [
    {
     "data": {
      "text/html": [
       "<div>\n",
       "<style scoped>\n",
       "    .dataframe tbody tr th:only-of-type {\n",
       "        vertical-align: middle;\n",
       "    }\n",
       "\n",
       "    .dataframe tbody tr th {\n",
       "        vertical-align: top;\n",
       "    }\n",
       "\n",
       "    .dataframe thead th {\n",
       "        text-align: right;\n",
       "    }\n",
       "</style>\n",
       "<table border=\"1\" class=\"dataframe\">\n",
       "  <thead>\n",
       "    <tr style=\"text-align: right;\">\n",
       "      <th></th>\n",
       "      <th></th>\n",
       "      <th>mean</th>\n",
       "    </tr>\n",
       "    <tr>\n",
       "      <th>salary</th>\n",
       "      <th>position</th>\n",
       "      <th></th>\n",
       "    </tr>\n",
       "  </thead>\n",
       "  <tbody>\n",
       "    <tr>\n",
       "      <th rowspan=\"5\" valign=\"top\">(0, 3500]</th>\n",
       "      <th>C</th>\n",
       "      <td>11.704612</td>\n",
       "    </tr>\n",
       "    <tr>\n",
       "      <th>PF</th>\n",
       "      <td>10.507877</td>\n",
       "    </tr>\n",
       "    <tr>\n",
       "      <th>PG</th>\n",
       "      <td>10.709360</td>\n",
       "    </tr>\n",
       "    <tr>\n",
       "      <th>SF</th>\n",
       "      <td>10.693788</td>\n",
       "    </tr>\n",
       "    <tr>\n",
       "      <th>SG</th>\n",
       "      <td>10.393849</td>\n",
       "    </tr>\n",
       "    <tr>\n",
       "      <th rowspan=\"5\" valign=\"top\">(3500, 5500]</th>\n",
       "      <th>C</th>\n",
       "      <td>19.473647</td>\n",
       "    </tr>\n",
       "    <tr>\n",
       "      <th>PF</th>\n",
       "      <td>19.172353</td>\n",
       "    </tr>\n",
       "    <tr>\n",
       "      <th>PG</th>\n",
       "      <td>18.801044</td>\n",
       "    </tr>\n",
       "    <tr>\n",
       "      <th>SF</th>\n",
       "      <td>19.003852</td>\n",
       "    </tr>\n",
       "    <tr>\n",
       "      <th>SG</th>\n",
       "      <td>18.480242</td>\n",
       "    </tr>\n",
       "    <tr>\n",
       "      <th rowspan=\"5\" valign=\"top\">(5500, 7500]</th>\n",
       "      <th>C</th>\n",
       "      <td>30.803356</td>\n",
       "    </tr>\n",
       "    <tr>\n",
       "      <th>PF</th>\n",
       "      <td>29.153056</td>\n",
       "    </tr>\n",
       "    <tr>\n",
       "      <th>PG</th>\n",
       "      <td>30.172364</td>\n",
       "    </tr>\n",
       "    <tr>\n",
       "      <th>SF</th>\n",
       "      <td>29.128901</td>\n",
       "    </tr>\n",
       "    <tr>\n",
       "      <th>SG</th>\n",
       "      <td>30.060720</td>\n",
       "    </tr>\n",
       "    <tr>\n",
       "      <th rowspan=\"5\" valign=\"top\">(7500, 9500]</th>\n",
       "      <th>C</th>\n",
       "      <td>39.764217</td>\n",
       "    </tr>\n",
       "    <tr>\n",
       "      <th>PF</th>\n",
       "      <td>37.214552</td>\n",
       "    </tr>\n",
       "    <tr>\n",
       "      <th>PG</th>\n",
       "      <td>40.485450</td>\n",
       "    </tr>\n",
       "    <tr>\n",
       "      <th>SF</th>\n",
       "      <td>39.367480</td>\n",
       "    </tr>\n",
       "    <tr>\n",
       "      <th>SG</th>\n",
       "      <td>39.795298</td>\n",
       "    </tr>\n",
       "    <tr>\n",
       "      <th rowspan=\"5\" valign=\"top\">(9500, 14000]</th>\n",
       "      <th>C</th>\n",
       "      <td>46.975573</td>\n",
       "    </tr>\n",
       "    <tr>\n",
       "      <th>PF</th>\n",
       "      <td>52.698361</td>\n",
       "    </tr>\n",
       "    <tr>\n",
       "      <th>PG</th>\n",
       "      <td>48.285606</td>\n",
       "    </tr>\n",
       "    <tr>\n",
       "      <th>SF</th>\n",
       "      <td>48.998601</td>\n",
       "    </tr>\n",
       "    <tr>\n",
       "      <th>SG</th>\n",
       "      <td>50.148810</td>\n",
       "    </tr>\n",
       "  </tbody>\n",
       "</table>\n",
       "</div>"
      ],
      "text/plain": [
       "                             mean\n",
       "salary        position           \n",
       "(0, 3500]     C         11.704612\n",
       "              PF        10.507877\n",
       "              PG        10.709360\n",
       "              SF        10.693788\n",
       "              SG        10.393849\n",
       "(3500, 5500]  C         19.473647\n",
       "              PF        19.172353\n",
       "              PG        18.801044\n",
       "              SF        19.003852\n",
       "              SG        18.480242\n",
       "(5500, 7500]  C         30.803356\n",
       "              PF        29.153056\n",
       "              PG        30.172364\n",
       "              SF        29.128901\n",
       "              SG        30.060720\n",
       "(7500, 9500]  C         39.764217\n",
       "              PF        37.214552\n",
       "              PG        40.485450\n",
       "              SF        39.367480\n",
       "              SG        39.795298\n",
       "(9500, 14000] C         46.975573\n",
       "              PF        52.698361\n",
       "              PG        48.285606\n",
       "              SF        48.998601\n",
       "              SG        50.148810"
      ]
     },
     "execution_count": 13,
     "metadata": {},
     "output_type": "execute_result"
    }
   ],
   "source": [
    "# Average points scored by each position for given salary range\n",
    "df.groupby([sal_bins,'position'])['fd_points'].agg(['mean'])"
   ]
  },
  {
   "cell_type": "code",
   "execution_count": 14,
   "metadata": {},
   "outputs": [
    {
     "data": {
      "text/html": [
       "<div>\n",
       "<style scoped>\n",
       "    .dataframe tbody tr th:only-of-type {\n",
       "        vertical-align: middle;\n",
       "    }\n",
       "\n",
       "    .dataframe tbody tr th {\n",
       "        vertical-align: top;\n",
       "    }\n",
       "\n",
       "    .dataframe thead tr th {\n",
       "        text-align: left;\n",
       "    }\n",
       "\n",
       "    .dataframe thead tr:last-of-type th {\n",
       "        text-align: right;\n",
       "    }\n",
       "</style>\n",
       "<table border=\"1\" class=\"dataframe\">\n",
       "  <thead>\n",
       "    <tr>\n",
       "      <th></th>\n",
       "      <th colspan=\"5\" halign=\"left\">mean</th>\n",
       "    </tr>\n",
       "    <tr>\n",
       "      <th>position</th>\n",
       "      <th>C</th>\n",
       "      <th>PF</th>\n",
       "      <th>PG</th>\n",
       "      <th>SF</th>\n",
       "      <th>SG</th>\n",
       "    </tr>\n",
       "    <tr>\n",
       "      <th>salary</th>\n",
       "      <th></th>\n",
       "      <th></th>\n",
       "      <th></th>\n",
       "      <th></th>\n",
       "      <th></th>\n",
       "    </tr>\n",
       "  </thead>\n",
       "  <tbody>\n",
       "    <tr>\n",
       "      <th>(0, 3500]</th>\n",
       "      <td>11.704612</td>\n",
       "      <td>10.507877</td>\n",
       "      <td>10.709360</td>\n",
       "      <td>10.693788</td>\n",
       "      <td>10.393849</td>\n",
       "    </tr>\n",
       "    <tr>\n",
       "      <th>(3500, 5500]</th>\n",
       "      <td>19.473647</td>\n",
       "      <td>19.172353</td>\n",
       "      <td>18.801044</td>\n",
       "      <td>19.003852</td>\n",
       "      <td>18.480242</td>\n",
       "    </tr>\n",
       "    <tr>\n",
       "      <th>(5500, 7500]</th>\n",
       "      <td>30.803356</td>\n",
       "      <td>29.153056</td>\n",
       "      <td>30.172364</td>\n",
       "      <td>29.128901</td>\n",
       "      <td>30.060720</td>\n",
       "    </tr>\n",
       "    <tr>\n",
       "      <th>(7500, 9500]</th>\n",
       "      <td>39.764217</td>\n",
       "      <td>37.214552</td>\n",
       "      <td>40.485450</td>\n",
       "      <td>39.367480</td>\n",
       "      <td>39.795298</td>\n",
       "    </tr>\n",
       "    <tr>\n",
       "      <th>(9500, 14000]</th>\n",
       "      <td>46.975573</td>\n",
       "      <td>52.698361</td>\n",
       "      <td>48.285606</td>\n",
       "      <td>48.998601</td>\n",
       "      <td>50.148810</td>\n",
       "    </tr>\n",
       "  </tbody>\n",
       "</table>\n",
       "</div>"
      ],
      "text/plain": [
       "                    mean                                            \n",
       "position               C         PF         PG         SF         SG\n",
       "salary                                                              \n",
       "(0, 3500]      11.704612  10.507877  10.709360  10.693788  10.393849\n",
       "(3500, 5500]   19.473647  19.172353  18.801044  19.003852  18.480242\n",
       "(5500, 7500]   30.803356  29.153056  30.172364  29.128901  30.060720\n",
       "(7500, 9500]   39.764217  37.214552  40.485450  39.367480  39.795298\n",
       "(9500, 14000]  46.975573  52.698361  48.285606  48.998601  50.148810"
      ]
     },
     "execution_count": 14,
     "metadata": {},
     "output_type": "execute_result"
    }
   ],
   "source": [
    "# look it in table format\n",
    "df.groupby([sal_bins,'position'])['fd_points'].agg(['mean']).unstack()"
   ]
  },
  {
   "cell_type": "code",
   "execution_count": 49,
   "metadata": {},
   "outputs": [
    {
     "data": {
      "text/plain": [
       "[]"
      ]
     },
     "execution_count": 49,
     "metadata": {},
     "output_type": "execute_result"
    },
    {
     "data": {
      "image/png": "[encoded data removed]",
      "text/plain": [
       "<Figure size 576x360 with 1 Axes>"
      ]
     },
     "metadata": {},
     "output_type": "display_data"
    }
   ],
   "source": [
    "# compare average fantasy points for each position in a given salary range\n",
    "ax = df.groupby([sal_bins,'position'])['fd_points'].agg(['mean']).unstack().plot(kind='bar',fontsize=12,\n",
    "                                                                                 edgecolor='white',linewidth=3,\n",
    "                                                                                 title='Avg fantasy points for each position by their salary tier ',\n",
    "                                                                                 rot=0,figsize=(8,5),legend=False)\n",
    "patches,labels = ax.get_legend_handles_labels()\n",
    "labels = ['C','PF','PG','SF','SG']\n",
    "ax.set_ylabel('Avg Fantasy Points')\n",
    "ax.legend(patches,labels,loc='best',fancybox=True,framealpha=0.5)\n",
    "ax.plot()"
   ]
  },
  {
   "cell_type": "markdown",
   "metadata": {},
   "source": [
    "#### Observations:\n",
    "1. No suprise.  As salary increases so does avg fantsy points.\n",
    "2. Center position on avg scores more points in the lower range slary (0-7500).\n",
    "3. PF's on average score higher compared to other position for higher salary range (\\$9500-1400)"
   ]
  },
  {
   "cell_type": "markdown",
   "metadata": {},
   "source": [
    "#### Does playing away matter\n",
    "1. Create different datasets for home and away\n",
    "2. Compare two different groups using avgs or percentages\n",
    "3. Create chart showing the diffs"
   ]
  },
  {
   "cell_type": "code",
   "execution_count": 16,
   "metadata": {},
   "outputs": [],
   "source": [
    "def home_away_stats(df):\n",
    "    # get average for specific columns and return as dataframe\n",
    "    columns = ['fd_points','salary','min','points','rebounds','asst','steal','blks','to','3s']\n",
    "    df = pd.DataFrame(df[columns].mean(),columns=['avg'])\n",
    "    return df"
   ]
  },
  {
   "cell_type": "code",
   "execution_count": 17,
   "metadata": {},
   "outputs": [
    {
     "data": {
      "text/html": [
       "<style  type=\"text/css\" >\n",
       "    #T_b64b83ca_fb90_11ea_b3e8_acbc32aa57abrow0_col2 {\n",
       "            width:  10em;\n",
       "             height:  80%;\n",
       "            background:  linear-gradient(90deg, transparent 0%, transparent 8.4%, #5fba7d 8.4%, #5fba7d 44.1%, transparent 44.1%);\n",
       "        }    #T_b64b83ca_fb90_11ea_b3e8_acbc32aa57abrow1_col2 {\n",
       "            width:  10em;\n",
       "             height:  80%;\n",
       "            background:  linear-gradient(90deg, transparent 0%, transparent 8.4%, #5fba7d 8.4%, #5fba7d 10.7%, transparent 10.7%);\n",
       "        }    #T_b64b83ca_fb90_11ea_b3e8_acbc32aa57abrow2_col2 {\n",
       "            width:  10em;\n",
       "             height:  80%;\n",
       "            background:  linear-gradient(90deg, transparent 0%, transparent 8.3%, #d65f5f 8.3%, #d65f5f 8.4%, transparent 8.4%);\n",
       "        }    #T_b64b83ca_fb90_11ea_b3e8_acbc32aa57abrow3_col2 {\n",
       "            width:  10em;\n",
       "             height:  80%;\n",
       "            background:  linear-gradient(90deg, transparent 0%, transparent 8.4%, #5fba7d 8.4%, #5fba7d 34.2%, transparent 34.2%);\n",
       "        }    #T_b64b83ca_fb90_11ea_b3e8_acbc32aa57abrow4_col2 {\n",
       "            width:  10em;\n",
       "             height:  80%;\n",
       "            background:  linear-gradient(90deg, transparent 0%, transparent 8.4%, #5fba7d 8.4%, #5fba7d 46.8%, transparent 46.8%);\n",
       "        }    #T_b64b83ca_fb90_11ea_b3e8_acbc32aa57abrow5_col2 {\n",
       "            width:  10em;\n",
       "             height:  80%;\n",
       "            background:  linear-gradient(90deg, transparent 0%, transparent 8.4%, #5fba7d 8.4%, #5fba7d 64.1%, transparent 64.1%);\n",
       "        }    #T_b64b83ca_fb90_11ea_b3e8_acbc32aa57abrow6_col2 {\n",
       "            width:  10em;\n",
       "             height:  80%;\n",
       "            background:  linear-gradient(90deg, transparent 0%, transparent 0.0%, #d65f5f 0.0%, #d65f5f 8.4%, transparent 8.4%);\n",
       "        }    #T_b64b83ca_fb90_11ea_b3e8_acbc32aa57abrow7_col2 {\n",
       "            width:  10em;\n",
       "             height:  80%;\n",
       "            background:  linear-gradient(90deg, transparent 0%, transparent 8.4%, #5fba7d 8.4%, #5fba7d 100.0%, transparent 100.0%);\n",
       "        }    #T_b64b83ca_fb90_11ea_b3e8_acbc32aa57abrow8_col2 {\n",
       "            width:  10em;\n",
       "             height:  80%;\n",
       "            background:  linear-gradient(90deg, transparent 0%, transparent 8.4%, #5fba7d 8.4%, #5fba7d 12.1%, transparent 12.1%);\n",
       "        }    #T_b64b83ca_fb90_11ea_b3e8_acbc32aa57abrow9_col2 {\n",
       "            width:  10em;\n",
       "             height:  80%;\n",
       "            background:  linear-gradient(90deg, transparent 0%, transparent 8.4%, #5fba7d 8.4%, #5fba7d 38.8%, transparent 38.8%);\n",
       "        }</style>  \n",
       "<table id=\"T_b64b83ca_fb90_11ea_b3e8_acbc32aa57ab\" > \n",
       "<thead>    <tr> \n",
       "        <th class=\"blank level0\" ></th> \n",
       "        <th class=\"col_heading level0 col0\" >away</th> \n",
       "        <th class=\"col_heading level0 col1\" >home</th> \n",
       "        <th class=\"col_heading level0 col2\" >Percentage_Change</th> \n",
       "    </tr></thead> \n",
       "<tbody>    <tr> \n",
       "        <th id=\"T_b64b83ca_fb90_11ea_b3e8_acbc32aa57ablevel0_row0\" class=\"row_heading level0 row0\" >fd_points</th> \n",
       "        <td id=\"T_b64b83ca_fb90_11ea_b3e8_acbc32aa57abrow0_col0\" class=\"data row0 col0\" >21.1179</td> \n",
       "        <td id=\"T_b64b83ca_fb90_11ea_b3e8_acbc32aa57abrow0_col1\" class=\"data row0 col1\" >21.7348</td> \n",
       "        <td id=\"T_b64b83ca_fb90_11ea_b3e8_acbc32aa57abrow0_col2\" class=\"data row0 col2\" >0.0283831</td> \n",
       "    </tr>    <tr> \n",
       "        <th id=\"T_b64b83ca_fb90_11ea_b3e8_acbc32aa57ablevel0_row1\" class=\"row_heading level0 row1\" >salary</th> \n",
       "        <td id=\"T_b64b83ca_fb90_11ea_b3e8_acbc32aa57abrow1_col0\" class=\"data row1 col0\" >4999.5</td> \n",
       "        <td id=\"T_b64b83ca_fb90_11ea_b3e8_acbc32aa57abrow1_col1\" class=\"data row1 col1\" >5008.72</td> \n",
       "        <td id=\"T_b64b83ca_fb90_11ea_b3e8_acbc32aa57abrow1_col2\" class=\"data row1 col2\" >0.00184143</td> \n",
       "    </tr>    <tr> \n",
       "        <th id=\"T_b64b83ca_fb90_11ea_b3e8_acbc32aa57ablevel0_row2\" class=\"row_heading level0 row2\" >min</th> \n",
       "        <td id=\"T_b64b83ca_fb90_11ea_b3e8_acbc32aa57abrow2_col0\" class=\"data row2 col0\" >22.9767</td> \n",
       "        <td id=\"T_b64b83ca_fb90_11ea_b3e8_acbc32aa57abrow2_col1\" class=\"data row2 col1\" >22.9745</td> \n",
       "        <td id=\"T_b64b83ca_fb90_11ea_b3e8_acbc32aa57abrow2_col2\" class=\"data row2 col2\" >-9.60812e-05</td> \n",
       "    </tr>    <tr> \n",
       "        <th id=\"T_b64b83ca_fb90_11ea_b3e8_acbc32aa57ablevel0_row3\" class=\"row_heading level0 row3\" >points</th> \n",
       "        <td id=\"T_b64b83ca_fb90_11ea_b3e8_acbc32aa57abrow3_col0\" class=\"data row3 col0\" >10.5773</td> \n",
       "        <td id=\"T_b64b83ca_fb90_11ea_b3e8_acbc32aa57abrow3_col1\" class=\"data row3 col1\" >10.799</td> \n",
       "        <td id=\"T_b64b83ca_fb90_11ea_b3e8_acbc32aa57abrow3_col2\" class=\"data row3 col2\" >0.0205332</td> \n",
       "    </tr>    <tr> \n",
       "        <th id=\"T_b64b83ca_fb90_11ea_b3e8_acbc32aa57ablevel0_row4\" class=\"row_heading level0 row4\" >rebounds</th> \n",
       "        <td id=\"T_b64b83ca_fb90_11ea_b3e8_acbc32aa57abrow4_col0\" class=\"data row4 col0\" >4.25791</td> \n",
       "        <td id=\"T_b64b83ca_fb90_11ea_b3e8_acbc32aa57abrow4_col1\" class=\"data row4 col1\" >4.39185</td> \n",
       "        <td id=\"T_b64b83ca_fb90_11ea_b3e8_acbc32aa57abrow4_col2\" class=\"data row4 col2\" >0.0304992</td> \n",
       "    </tr>    <tr> \n",
       "        <th id=\"T_b64b83ca_fb90_11ea_b3e8_acbc32aa57ablevel0_row5\" class=\"row_heading level0 row5\" >asst</th> \n",
       "        <td id=\"T_b64b83ca_fb90_11ea_b3e8_acbc32aa57abrow5_col0\" class=\"data row5 col0\" >2.27981</td> \n",
       "        <td id=\"T_b64b83ca_fb90_11ea_b3e8_acbc32aa57abrow5_col1\" class=\"data row5 col1\" >2.38553</td> \n",
       "        <td id=\"T_b64b83ca_fb90_11ea_b3e8_acbc32aa57abrow5_col2\" class=\"data row5 col2\" >0.0443196</td> \n",
       "    </tr>    <tr> \n",
       "        <th id=\"T_b64b83ca_fb90_11ea_b3e8_acbc32aa57ablevel0_row6\" class=\"row_heading level0 row6\" >steal</th> \n",
       "        <td id=\"T_b64b83ca_fb90_11ea_b3e8_acbc32aa57abrow6_col0\" class=\"data row6 col0\" >0.74877</td> \n",
       "        <td id=\"T_b64b83ca_fb90_11ea_b3e8_acbc32aa57abrow6_col1\" class=\"data row6 col1\" >0.743797</td> \n",
       "        <td id=\"T_b64b83ca_fb90_11ea_b3e8_acbc32aa57abrow6_col2\" class=\"data row6 col2\" >-0.00668649</td> \n",
       "    </tr>    <tr> \n",
       "        <th id=\"T_b64b83ca_fb90_11ea_b3e8_acbc32aa57ablevel0_row7\" class=\"row_heading level0 row7\" >blks</th> \n",
       "        <td id=\"T_b64b83ca_fb90_11ea_b3e8_acbc32aa57abrow7_col0\" class=\"data row7 col0\" >0.462169</td> \n",
       "        <td id=\"T_b64b83ca_fb90_11ea_b3e8_acbc32aa57abrow7_col1\" class=\"data row7 col1\" >0.498478</td> \n",
       "        <td id=\"T_b64b83ca_fb90_11ea_b3e8_acbc32aa57abrow7_col2\" class=\"data row7 col2\" >0.0728403</td> \n",
       "    </tr>    <tr> \n",
       "        <th id=\"T_b64b83ca_fb90_11ea_b3e8_acbc32aa57ablevel0_row8\" class=\"row_heading level0 row8\" >to</th> \n",
       "        <td id=\"T_b64b83ca_fb90_11ea_b3e8_acbc32aa57abrow8_col0\" class=\"data row8 col0\" >1.31846</td> \n",
       "        <td id=\"T_b64b83ca_fb90_11ea_b3e8_acbc32aa57abrow8_col1\" class=\"data row8 col1\" >1.32233</td> \n",
       "        <td id=\"T_b64b83ca_fb90_11ea_b3e8_acbc32aa57abrow8_col2\" class=\"data row8 col2\" >0.00292877</td> \n",
       "    </tr>    <tr> \n",
       "        <th id=\"T_b64b83ca_fb90_11ea_b3e8_acbc32aa57ablevel0_row9\" class=\"row_heading level0 row9\" >3s</th> \n",
       "        <td id=\"T_b64b83ca_fb90_11ea_b3e8_acbc32aa57abrow9_col0\" class=\"data row9 col0\" >1.07988</td> \n",
       "        <td id=\"T_b64b83ca_fb90_11ea_b3e8_acbc32aa57abrow9_col1\" class=\"data row9 col1\" >1.10662</td> \n",
       "        <td id=\"T_b64b83ca_fb90_11ea_b3e8_acbc32aa57abrow9_col2\" class=\"data row9 col2\" >0.0241693</td> \n",
       "    </tr></tbody> \n",
       "</table> "
      ],
      "text/plain": [
       "<pandas.io.formats.style.Styler at 0x1a1ec6b438>"
      ]
     },
     "execution_count": 17,
     "metadata": {},
     "output_type": "execute_result"
    }
   ],
   "source": [
    "# separate out home and away data\n",
    "home_df_stats = home_away_stats(df[df['home_away'] == 0])\n",
    "away_df_stats = home_away_stats(df[df['home_away'] == 1])\n",
    "comp_df = pd.merge(away_df_stats,home_df_stats, left_index=True, right_index=True)\n",
    "comp_df.columns = ['away', 'home']\n",
    "# get percentage change\n",
    "comp_df['Percentage_Change'] = (comp_df['home'] - comp_df['away']) / comp_df['home']\n",
    "comp_df.style.bar(subset=['Percentage_Change'], align='mid', color=['#d65f5f', '#5fba7d'])"
   ]
  },
  {
   "cell_type": "markdown",
   "metadata": {},
   "source": [
    "#### Observations:\n",
    "1. players block 7% more shots at home\n",
    "2. Players turn the ball over 4% more on the road\n",
    "3. Fantasy points decrease by 2% on the road.\n",
    "4. Rebounds are lower by 3% on the road"
   ]
  },
  {
   "cell_type": "markdown",
   "metadata": {},
   "source": [
    "#### Let's see if we can figure out a strategy from optimal lineups\n",
    "1. For each day, figure out the optimal lineup. \n",
    "2. Create a dataframe containing optimal lineup, salary, pts/1000's, and fantasy points\n",
    "3. Plot the distribution of data by each group.\n",
    "4. For optimal lineups, figure out the count of each position within a slary range.  Which salary range has the highest count?  "
   ]
  },
  {
   "cell_type": "code",
   "execution_count": 18,
   "metadata": {},
   "outputs": [],
   "source": [
    "def get_optimal_lineups(df):\n",
    "    '''\n",
    "    df - dataframe containing player position,name,points,salary, etc\n",
    "    \n",
    "    For each day figure out the optimal lineup.\n",
    "    \n",
    "    return a dataframe containing the optimal lineup along with pts/1000's dollar \n",
    "    '''\n",
    "    columns = ['position','name','fd_points','salary']\n",
    "    # according to the rules of the game from fanduel, we are required to pick 2 PG's,2 SG's,..., and 1 center \n",
    "    req_pos = {\n",
    "        \"PG\": 2,\n",
    "        \"SG\": 2,\n",
    "        \"SF\": 2,\n",
    "        \"PF\": 2,\n",
    "        \"C\": 1\n",
    "    }\n",
    "    # salary cap.  maximize scores without exceeding salary cap\n",
    "    SALARY_CAP = 60000\n",
    "    opt_all_df = pd.DataFrame()\n",
    "    for day in df.game_date.unique():\n",
    "        df_day = df[df.game_date == day]\n",
    "        df_day = df_day[columns]\n",
    "        df_day = df_day.rename(columns={\"fd_points\":\"points\"})\n",
    "        so = SalaryOptimizer(req_pos,SALARY_CAP)\n",
    "        lineupDF = so.optimize(df_day)\n",
    "        lineupDF['game_date'] = [day]*lineupDF.shape[0]\n",
    "        opt_all_df = pd.concat([opt_all_df, lineupDF])\n",
    "    return opt_all_df"
   ]
  },
  {
   "cell_type": "code",
   "execution_count": 19,
   "metadata": {},
   "outputs": [],
   "source": [
    "optimal_score_df = get_optimal_lineups(df)"
   ]
  },
  {
   "cell_type": "code",
   "execution_count": 20,
   "metadata": {},
   "outputs": [
    {
     "data": {
      "text/html": [
       "<div>\n",
       "<style scoped>\n",
       "    .dataframe tbody tr th:only-of-type {\n",
       "        vertical-align: middle;\n",
       "    }\n",
       "\n",
       "    .dataframe tbody tr th {\n",
       "        vertical-align: top;\n",
       "    }\n",
       "\n",
       "    .dataframe thead th {\n",
       "        text-align: right;\n",
       "    }\n",
       "</style>\n",
       "<table border=\"1\" class=\"dataframe\">\n",
       "  <thead>\n",
       "    <tr style=\"text-align: right;\">\n",
       "      <th></th>\n",
       "      <th>position</th>\n",
       "      <th>name</th>\n",
       "      <th>points</th>\n",
       "      <th>salary</th>\n",
       "      <th>pts/$ooo</th>\n",
       "      <th>game_date</th>\n",
       "    </tr>\n",
       "  </thead>\n",
       "  <tbody>\n",
       "    <tr>\n",
       "      <th>0</th>\n",
       "      <td>C</td>\n",
       "      <td>Drummond,Andre^</td>\n",
       "      <td>51.6</td>\n",
       "      <td>7400.0</td>\n",
       "      <td>6.972973</td>\n",
       "      <td>1-1-2017</td>\n",
       "    </tr>\n",
       "    <tr>\n",
       "      <th>1</th>\n",
       "      <td>PF</td>\n",
       "      <td>Aldridge,LaMarcus^</td>\n",
       "      <td>49.6</td>\n",
       "      <td>7000.0</td>\n",
       "      <td>7.085714</td>\n",
       "      <td>1-1-2017</td>\n",
       "    </tr>\n",
       "    <tr>\n",
       "      <th>2</th>\n",
       "      <td>PF</td>\n",
       "      <td>Millsap,Paul^</td>\n",
       "      <td>52.1</td>\n",
       "      <td>7500.0</td>\n",
       "      <td>6.946667</td>\n",
       "      <td>1-1-2017</td>\n",
       "    </tr>\n",
       "    <tr>\n",
       "      <th>3</th>\n",
       "      <td>PG</td>\n",
       "      <td>Lowry,Kyle^</td>\n",
       "      <td>58.3</td>\n",
       "      <td>9100.0</td>\n",
       "      <td>6.406593</td>\n",
       "      <td>1-1-2017</td>\n",
       "    </tr>\n",
       "    <tr>\n",
       "      <th>4</th>\n",
       "      <td>PG</td>\n",
       "      <td>Russell,D'Angelo^</td>\n",
       "      <td>42.3</td>\n",
       "      <td>5900.0</td>\n",
       "      <td>7.169492</td>\n",
       "      <td>1-1-2017</td>\n",
       "    </tr>\n",
       "  </tbody>\n",
       "</table>\n",
       "</div>"
      ],
      "text/plain": [
       "  position                name  points  salary  pts/$ooo game_date\n",
       "0        C     Drummond,Andre^    51.6  7400.0  6.972973  1-1-2017\n",
       "1       PF  Aldridge,LaMarcus^    49.6  7000.0  7.085714  1-1-2017\n",
       "2       PF       Millsap,Paul^    52.1  7500.0  6.946667  1-1-2017\n",
       "3       PG         Lowry,Kyle^    58.3  9100.0  6.406593  1-1-2017\n",
       "4       PG   Russell,D'Angelo^    42.3  5900.0  7.169492  1-1-2017"
      ]
     },
     "execution_count": 20,
     "metadata": {},
     "output_type": "execute_result"
    }
   ],
   "source": [
    "optimal_score_df.head()"
   ]
  },
  {
   "cell_type": "code",
   "execution_count": 39,
   "metadata": {},
   "outputs": [
    {
     "data": {
      "text/plain": [
       "<matplotlib.axes._subplots.AxesSubplot at 0x1a21090ef0>"
      ]
     },
     "execution_count": 39,
     "metadata": {},
     "output_type": "execute_result"
    },
    {
     "data": {
      "image/png": "[encoded data removed]",
      "text/plain": [
       "<Figure size 432x288 with 2 Axes>"
      ]
     },
     "metadata": {},
     "output_type": "display_data"
    }
   ],
   "source": [
    "# plot total points and avg points per $1000 dollar for each lineup.  Cost/$1000 dollar gives us the value for every\n",
    "# $1000 dollar spent on salary\n",
    "fix, axes = plt.subplots(nrows=2)\n",
    "axes[0].set_ylabel('total points')\n",
    "axes[1].set_ylabel(\"Avg pts/1000's\")\n",
    "optimal_score_df.groupby('game_date')['points'].sum().plot(ax=axes[0])\n",
    "optimal_score_df.groupby('game_date')['pts/$ooo'].mean().plot(ax=axes[1])"
   ]
  },
  {
   "cell_type": "code",
   "execution_count": 437,
   "metadata": {},
   "outputs": [
    {
     "data": {
      "text/plain": [
       "<matplotlib.axes._subplots.AxesSubplot at 0x1215f2710>"
      ]
     },
     "execution_count": 437,
     "metadata": {},
     "output_type": "execute_result"
    },
    {
     "data": {
      "image/png": "[encoded data removed]",
      "text/plain": [
       "<Figure size 432x288 with 1 Axes>"
      ]
     },
     "metadata": {},
     "output_type": "display_data"
    }
   ],
   "source": [
    "optimal_score_df.groupby('game_date')['salary'].sum().plot()"
   ]
  },
  {
   "cell_type": "code",
   "execution_count": 440,
   "metadata": {},
   "outputs": [
    {
     "data": {
      "text/plain": [
       "salary         position\n",
       "(0, 3500]      C            477\n",
       "               PF           876\n",
       "               PG           812\n",
       "               SF           982\n",
       "               SG          1138\n",
       "(3500, 5500]   C           1127\n",
       "               PF          1530\n",
       "               PG          1532\n",
       "               SF          1843\n",
       "               SG          1817\n",
       "(5500, 7500]   C            447\n",
       "               PF           720\n",
       "               PG           626\n",
       "               SF           564\n",
       "               SG           639\n",
       "(7500, 9500]   C            313\n",
       "               PF           268\n",
       "               PG           378\n",
       "               SF           123\n",
       "               SG           319\n",
       "(9500, 14000]  C            131\n",
       "               PF            61\n",
       "               PG           132\n",
       "               SF           143\n",
       "               SG            84\n",
       "Name: position, dtype: int64"
      ]
     },
     "execution_count": 440,
     "metadata": {},
     "output_type": "execute_result"
    }
   ],
   "source": [
    "# get the count of each position in a given salary range\n",
    "df.groupby([sal_bins,'position'])['position'].count()"
   ]
  },
  {
   "cell_type": "code",
   "execution_count": 48,
   "metadata": {},
   "outputs": [
    {
     "data": {
      "text/plain": [
       "Text(0, 0.5, 'Count')"
      ]
     },
     "execution_count": 48,
     "metadata": {},
     "output_type": "execute_result"
    },
    {
     "data": {
      "image/png": "[encoded data removed]",
      "text/plain": [
       "<Figure size 576x360 with 1 Axes>"
      ]
     },
     "metadata": {},
     "output_type": "display_data"
    }
   ],
   "source": [
    "ax = df.groupby([sal_bins,'position'])['position'].count().unstack().plot(kind='bar',figsize=(8,5),fontsize=12,\n",
    "                                                                                 edgecolor='white',linewidth=3,\n",
    "                                                                                 title='Optimal Lineups: Count of each postion by salary range ')\n",
    "ax.set_ylabel('Count')"
   ]
  },
  {
   "cell_type": "code",
   "execution_count": 45,
   "metadata": {},
   "outputs": [
    {
     "data": {
      "image/png": "[encoded data removed]",
      "text/plain": [
       "<Figure size 576x360 with 1 Axes>"
      ]
     },
     "metadata": {},
     "output_type": "display_data"
    }
   ],
   "source": [
    "# What does the distribution look like for optimal lineup and position salary\n",
    "fig,axes = plt.subplots(figsize=(8,5))\n",
    "sns.violinplot('position','salary',data=optimal_score_df,ax=axes)\n",
    "axes.yaxis.grid(True)\n",
    "plt.show()"
   ]
  },
  {
   "cell_type": "markdown",
   "metadata": {},
   "source": [
    "##### Observations: \n",
    "1. Optimal lineups consistemtly generate total points between 400-500.  There are few outliers above \\$500 and below \\$400.  May be good to target totals between this range while building your own lineups\n",
    "2. Average cost per \\$1000 spent is consistently between 7-8.  Good value.  \n",
    "3. Most optimal lineups include positions with salary range of $3500-$5000. \n",
    "4. Good to pickup SG and SF with salary range of $3500-$5000 compared to centers.  So, if you have a choice between C and SG/SF, pick SG/SF.\n",
    "5. If you have to pick a player in the range of \\$5000-7500, it is better to pick a PF.\n",
    "6. Violin plot indicates to pick PG and C between \\$8000-10000 over other positions with a lean towards centers.\n",
    "7. Positions with higher salary greater than \\$9500 are only included in the optimal lineups 12% of the time.  \n",
    "8. Overall, don't go with big names (high salary) and focus on players in the range of $3500-5000 but if you feel like spending higher dollars, it is best to spend it on PG's and C's.  \n",
    "9. Optimal lineups here hopefully provide one additionally data point and help while generating your lineups.  \n",
    "10. Hardest part is to predict/find players beforehand with low salaries with potential of scoring big.  "
   ]
  },
  {
   "cell_type": "code",
   "execution_count": null,
   "metadata": {},
   "outputs": [],
   "source": []
  }
 ],
 "metadata": {
  "kernelspec": {
   "display_name": "Python 3",
   "language": "python",
   "name": "python3"
  },
  "language_info": {
   "codemirror_mode": {
    "name": "ipython",
    "version": 3
   },
   "file_extension": ".py",
   "mimetype": "text/x-python",
   "name": "python",
   "nbconvert_exporter": "python",
   "pygments_lexer": "ipython3",
   "version": "3.6.7"
  }
 },
 "nbformat": 4,
 "nbformat_minor": 2
}
